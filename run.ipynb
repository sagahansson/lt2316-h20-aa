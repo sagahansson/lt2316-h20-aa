{
 "cells": [
  {
   "cell_type": "markdown",
   "metadata": {},
   "source": [
    "# Assignment 1"
   ]
  },
  {
   "cell_type": "markdown",
   "metadata": {},
   "source": [
    "## Loading data"
   ]
  },
  {
   "cell_type": "code",
   "execution_count": null,
   "metadata": {
    "scrolled": false
   },
   "outputs": [],
   "source": [
    "from aa import DataLoader\n",
    "from aa import extract_features\n",
    "from aa import check_output\n",
    "import torch\n"
   ]
  },
  {
   "cell_type": "code",
   "execution_count": null,
   "metadata": {},
   "outputs": [],
   "source": [
    "device = torch.device(\"cuda:1\")"
   ]
  },
  {
   "cell_type": "code",
   "execution_count": null,
   "metadata": {
    "scrolled": true
   },
   "outputs": [],
   "source": [
    "dataset = DataLoader(data_dir=\"../DDICorpus/\", device=device)"
   ]
  },
  {
   "cell_type": "code",
   "execution_count": null,
   "metadata": {
    "scrolled": false
   },
   "outputs": [],
   "source": [
    "dataset.data_df.head()"
   ]
  },
  {
   "cell_type": "code",
   "execution_count": null,
   "metadata": {
    "scrolled": true
   },
   "outputs": [],
   "source": [
    "dataset.ner_df.head()"
   ]
  },
  {
   "cell_type": "code",
   "execution_count": null,
   "metadata": {
    "scrolled": true
   },
   "outputs": [],
   "source": [
    "dataset.vocab[:15]"
   ]
  },
  {
   "cell_type": "code",
   "execution_count": null,
   "metadata": {
    "scrolled": true
   },
   "outputs": [],
   "source": [
    "dataset.id2ner"
   ]
  },
  {
   "cell_type": "code",
   "execution_count": null,
   "metadata": {},
   "outputs": [],
   "source": [
    "dataset.max_sample_length"
   ]
  },
  {
   "cell_type": "code",
   "execution_count": null,
   "metadata": {
    "scrolled": false
   },
   "outputs": [],
   "source": [
    "dataset.get_random_sample()"
   ]
  },
  {
   "cell_type": "markdown",
   "metadata": {},
   "source": [
    "### Data Exploration"
   ]
  },
  {
   "cell_type": "code",
   "execution_count": null,
   "metadata": {},
   "outputs": [],
   "source": [
    "# otherwise plot wont show "
   ]
  },
  {
   "cell_type": "code",
   "execution_count": null,
   "metadata": {},
   "outputs": [],
   "source": [
    "%matplotlib inline "
   ]
  },
  {
   "cell_type": "code",
   "execution_count": null,
   "metadata": {
    "scrolled": false
   },
   "outputs": [],
   "source": [
    "dataset.plot_split_ner_distribution()"
   ]
  },
  {
   "cell_type": "markdown",
   "metadata": {},
   "source": [
    "### Labels"
   ]
  },
  {
   "cell_type": "code",
   "execution_count": null,
   "metadata": {
    "scrolled": true
   },
   "outputs": [],
   "source": [
    "train_y, val_y, test_y = check_output(dataset.get_y())"
   ]
  },
  {
   "cell_type": "markdown",
   "metadata": {},
   "source": [
    "## Extracting Features"
   ]
  },
  {
   "cell_type": "code",
   "execution_count": null,
   "metadata": {},
   "outputs": [],
   "source": [
    "train_X, val_X, test_X = check_output(extract_features(\n",
    "                                                        data=dataset.data_df,\n",
    "                                                        max_sample_length=dataset.max_sample_length,\n",
    "                                                        id2word=dataset.id2word,\n",
    "                                                        more_features=True, \n",
    "                                                        w_embed=128 \n",
    "                                                       ))"
   ]
  },
  {
   "cell_type": "markdown",
   "metadata": {},
   "source": [
    "## Bonus Part: Explore Some more"
   ]
  },
  {
   "cell_type": "code",
   "execution_count": null,
   "metadata": {},
   "outputs": [],
   "source": [
    "#uncomment the code below if you want to do bonus part"
   ]
  },
  {
   "cell_type": "code",
   "execution_count": null,
   "metadata": {},
   "outputs": [],
   "source": [
    "dataset.plot_ner_per_sample_distribution()"
   ]
  },
  {
   "cell_type": "code",
   "execution_count": null,
   "metadata": {},
   "outputs": [],
   "source": [
    "dataset.plot_sample_length_distribution()"
   ]
  },
  {
   "cell_type": "code",
   "execution_count": null,
   "metadata": {},
   "outputs": [],
   "source": [
    "#dataset.plot_ner_cooccurence_venndiagram()data:image/png;base64,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"
   ]
  },
  {
   "cell_type": "code",
   "execution_count": null,
   "metadata": {},
   "outputs": [],
   "source": []
  }
 ],
 "metadata": {
  "kernelspec": {
   "display_name": "Python 3",
   "language": "python",
   "name": "python3"
  },
  "language_info": {
   "codemirror_mode": {
    "name": "ipython",
    "version": 3
   },
   "file_extension": ".py",
   "mimetype": "text/x-python",
   "name": "python",
   "nbconvert_exporter": "python",
   "pygments_lexer": "ipython3",
   "version": "3.7.4"
  }
 },
 "nbformat": 4,
 "nbformat_minor": 4
}
